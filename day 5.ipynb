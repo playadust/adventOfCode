{
 "cells": [
  {
   "cell_type": "code",
   "execution_count": 64,
   "metadata": {},
   "outputs": [],
   "source": [
    "with open('inputs/day_5', 'r') as f:\n",
    "    data = list(f.read().split('\\n')[:-1][0])"
   ]
  },
  {
   "cell_type": "markdown",
   "metadata": {},
   "source": [
    "## Part 1"
   ]
  },
  {
   "cell_type": "code",
   "execution_count": 72,
   "metadata": {},
   "outputs": [
    {
     "name": "stdout",
     "output_type": "stream",
     "text": [
      "Answer:  9370\n"
     ]
    }
   ],
   "source": [
    "def react(polimer):\n",
    "    i = 0\n",
    "    while i < len(polimer)-2:\n",
    "        if abs(ord(polimer[i]) - ord(polimer[i+1])) == 32:\n",
    "            del polimer[i, i+1]\n",
    "            if i > 0: i -= 1\n",
    "        else:\n",
    "            i += 1\n",
    "    return polimer        \n",
    "\n",
    "print (\"Answer: \", len(\"\".join(react(data))))          "
   ]
  },
  {
   "cell_type": "markdown",
   "metadata": {},
   "source": [
    "## Part 2"
   ]
  },
  {
   "cell_type": "code",
   "execution_count": 62,
   "metadata": {},
   "outputs": [
    {
     "name": "stdout",
     "output_type": "stream",
     "text": [
      "Answer:  6390\n"
     ]
    }
   ],
   "source": [
    "ls = [] \n",
    "for a in range(65, 91):\n",
    "    reduced = [x for x in data if ord(x) != a and ord(x) != a + 32]\n",
    "    ls.append(len(react(reduced)))\n",
    "    \n",
    "print(\"Answer: \", min(ls))    "
   ]
  }
 ],
 "metadata": {
  "kernelspec": {
   "display_name": "Python 3",
   "language": "python",
   "name": "python3"
  },
  "language_info": {
   "codemirror_mode": {
    "name": "ipython",
    "version": 3
   },
   "file_extension": ".py",
   "mimetype": "text/x-python",
   "name": "python",
   "nbconvert_exporter": "python",
   "pygments_lexer": "ipython3",
   "version": "3.6.4"
  }
 },
 "nbformat": 4,
 "nbformat_minor": 2
}
