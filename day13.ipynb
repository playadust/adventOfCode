{
 "cells": [
  {
   "cell_type": "code",
   "execution_count": 16,
   "metadata": {},
   "outputs": [],
   "source": [
    "import pandas as pd\n",
    "\n",
    "data = \"\"\"/->-\\         \n",
    "|   |  /----\\ \n",
    "| /-+--+-\\  |\n",
    "| | |  | v  |\n",
    "\\-+-/  \\-+--/ \n",
    "  \\------/   \"\"\".split('\\n')"
   ]
  },
  {
   "cell_type": "code",
   "execution_count": 17,
   "metadata": {},
   "outputs": [],
   "source": [
    "data = open('inputs/day_13', 'r').read().split('\\n')"
   ]
  },
  {
   "cell_type": "code",
   "execution_count": 18,
   "metadata": {},
   "outputs": [],
   "source": [
    "# snapshot of race track to use in show_map function\n",
    "a = [list(l) for l in data]\n",
    "track = pd.DataFrame(a)\n",
    "\n",
    "def show_map(cars):    \n",
    "    moment = track.copy()\n",
    "    for car in cars: \n",
    "        moment[car[0][1]][car[0][0]] = 0\n",
    "    return moment\n",
    "\n",
    "def next_coor(c):\n",
    "    if c[1] == 3: c[0][1] += 1\n",
    "    if c[1] == 1: c[0][1] -= 1\n",
    "    if c[1] == 0: c[0][0] += 1\n",
    "    if c[1] == 2: c[0][0] -= 1\n",
    "    return c\n",
    "\n",
    "def rotate(c, way):\n",
    "    curr = car[1]\n",
    "    c[1] = (curr + way)  % 4\n",
    "    return c\n",
    "\n",
    "def next_turn(turn):\n",
    "    return (turn + 2) % 3 - 1\n"
   ]
  },
  {
   "cell_type": "code",
   "execution_count": 19,
   "metadata": {},
   "outputs": [],
   "source": [
    "## count cars and set all innitial states\n",
    "cars = []\n",
    "for i, d in enumerate(data):\n",
    "    right = d.find(\">\")\n",
    "    if right > 0: \n",
    "        cars.append([[i, right], 3, -1])\n",
    "    \n",
    "    left = d.find(\"<\")\n",
    "    if left > 0: \n",
    "        cars.append([[i, left], 1, -1])\n",
    "        \n",
    "    down = d.find(\"v\")\n",
    "    if down > 0: \n",
    "        cars.append([[i, down], 0, -1])\n",
    "        \n",
    "    up = d.find(\"^\")\n",
    "    if up > 0: \n",
    "        cars.append([[i, up], 2, -1])\n",
    "\n",
    "#show_map(cars)"
   ]
  },
  {
   "cell_type": "markdown",
   "metadata": {},
   "source": [
    "## Part 2"
   ]
  },
  {
   "cell_type": "code",
   "execution_count": 20,
   "metadata": {},
   "outputs": [
    {
     "name": "stdout",
     "output_type": "stream",
     "text": [
      "Answer:  (94, 78)\n"
     ]
    }
   ],
   "source": [
    "# race begins\n",
    "while True:\n",
    "    for car in cars:\n",
    "        next_coor(car)\n",
    "        coor = car[0]\n",
    "        \n",
    "        if data[coor[0]][coor[1]] == \"+\" : \n",
    "            rotate(car, car[2])\n",
    "            car[2] = next_turn(car[2])\n",
    "\n",
    "        if data[coor[0]][coor[1]] == '\\\\':\n",
    "            if car[1] % 2 == 0 : rotate(car, -1)\n",
    "            elif car[1] % 2 == 1 : rotate(car, 1)\n",
    "\n",
    "        if data[coor[0]][coor[1]] == \"/\" : \n",
    "            if car[1] % 2 == 0 : rotate(car, 1)\n",
    "            elif car[1] % 2 == 1 : rotate(car, -1)\n",
    "                \n",
    "    # BANG! \n",
    "    traffic = set()\n",
    "    bang = False\n",
    "    for car in cars: \n",
    "        xy = (car[0][1], car[0][0])\n",
    "        if xy in traffic:\n",
    "            bang = True\n",
    "            break\n",
    "        else:     \n",
    "            traffic.add(xy)\n",
    "    \n",
    "    if bang:\n",
    "        break\n",
    "    \n",
    "print(\"Answer: \", xy)    \n",
    "#show_map(cars)"
   ]
  }
 ],
 "metadata": {
  "kernelspec": {
   "display_name": "Python 3",
   "language": "python",
   "name": "python3"
  },
  "language_info": {
   "codemirror_mode": {
    "name": "ipython",
    "version": 3
   },
   "file_extension": ".py",
   "mimetype": "text/x-python",
   "name": "python",
   "nbconvert_exporter": "python",
   "pygments_lexer": "ipython3",
   "version": "3.6.4"
  }
 },
 "nbformat": 4,
 "nbformat_minor": 2
}
