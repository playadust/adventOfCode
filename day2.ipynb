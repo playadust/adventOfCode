{
 "cells": [
  {
   "cell_type": "markdown",
   "metadata": {},
   "source": [
    "## Part 1"
   ]
  },
  {
   "cell_type": "code",
   "execution_count": 84,
   "metadata": {},
   "outputs": [
    {
     "data": {
      "text/plain": [
       "6972"
      ]
     },
     "execution_count": 84,
     "metadata": {},
     "output_type": "execute_result"
    }
   ],
   "source": [
    "data = open('inputs/day_2', 'r').read().split('\\n')[0:-1]\n",
    "\n",
    "two   = 0\n",
    "three = 0\n",
    "\n",
    "for line in data:\n",
    "\n",
    "    # counter on top of counters! :) i think that's a neat idea  \n",
    "    # and reduces the gist of solution to basically just two lines\n",
    "    c = Counter(line)\n",
    "    vals = Counter([k for k in c.values()])\n",
    "    \n",
    "    if vals[2] !=0: two  +=1\n",
    "    if vals[3] !=0: three+=1\n",
    "\n",
    "result = two * three\n",
    "result"
   ]
  }
 ],
 "metadata": {
  "kernelspec": {
   "display_name": "Python 3",
   "language": "python",
   "name": "python3"
  },
  "language_info": {
   "codemirror_mode": {
    "name": "ipython",
    "version": 3
   },
   "file_extension": ".py",
   "mimetype": "text/x-python",
   "name": "python",
   "nbconvert_exporter": "python",
   "pygments_lexer": "ipython3",
   "version": "3.6.4"
  }
 },
 "nbformat": 4,
 "nbformat_minor": 2
}
