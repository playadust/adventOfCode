{
 "cells": [
  {
   "cell_type": "markdown",
   "metadata": {},
   "source": [
    "## Part 1"
   ]
  },
  {
   "cell_type": "code",
   "execution_count": 127,
   "metadata": {},
   "outputs": [
    {
     "data": {
      "text/plain": [
       "6972"
      ]
     },
     "execution_count": 127,
     "metadata": {},
     "output_type": "execute_result"
    }
   ],
   "source": [
    "data = open('inputs/day_2', 'r').read().split('\\n')[0:-1]\n",
    "two, three = 0, 0\n",
    "\n",
    "for line in data:\n",
    "    c = Counter(line)                         # counter on top of counters! :) i think that's a neat idea  \n",
    "    vals = Counter([k for k in c.values()])   # and reduces the gist of solution to pretty much just these two lines\n",
    "    \n",
    "    if vals[2] !=0: two  +=1\n",
    "    if vals[3] !=0: three+=1\n",
    "\n",
    "checksum = two * three\n",
    "checksum"
   ]
  },
  {
   "cell_type": "markdown",
   "metadata": {},
   "source": [
    "## Part 2"
   ]
  },
  {
   "cell_type": "code",
   "execution_count": 149,
   "metadata": {},
   "outputs": [
    {
     "data": {
      "text/plain": [
       "'aixwcbzrmdvpsjfgllthdyoqe'"
      ]
     },
     "execution_count": 149,
     "metadata": {},
     "output_type": "execute_result"
    }
   ],
   "source": [
    "# yeah, i was really trying to come up with some ideas that would do better \n",
    "# than this quadratic time solution... but hey, at least code looks simple and elegant! \n",
    "\n",
    "found = False\n",
    "\n",
    "for line1 in data:\n",
    "    for line2 in data:\n",
    "        if sum([a != b for a,b in zip(line1,line2)]) == 1:\n",
    "            found = True\n",
    "            break\n",
    "    if found == True: break   \n",
    "\n",
    "answer = ''.join([a for a,b in zip(line1, line2) if a==b])\n",
    "answer"
   ]
  }
 ],
 "metadata": {
  "kernelspec": {
   "display_name": "Python 3",
   "language": "python",
   "name": "python3"
  },
  "language_info": {
   "codemirror_mode": {
    "name": "ipython",
    "version": 3
   },
   "file_extension": ".py",
   "mimetype": "text/x-python",
   "name": "python",
   "nbconvert_exporter": "python",
   "pygments_lexer": "ipython3",
   "version": "3.6.4"
  }
 },
 "nbformat": 4,
 "nbformat_minor": 2
}
