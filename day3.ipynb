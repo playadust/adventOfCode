{
 "cells": [
  {
   "cell_type": "code",
   "execution_count": 186,
   "metadata": {},
   "outputs": [],
   "source": [
    "import numpy as np\n",
    "\n",
    "with open('inputs/day_3', 'r') as f:\n",
    "    data = f.read().split('\\n')[:-1]"
   ]
  },
  {
   "cell_type": "markdown",
   "metadata": {},
   "source": [
    "## Part 1"
   ]
  },
  {
   "cell_type": "code",
   "execution_count": 196,
   "metadata": {},
   "outputs": [
    {
     "name": "stdout",
     "output_type": "stream",
     "text": [
      "answer: 121163\n"
     ]
    }
   ],
   "source": [
    "def get_dims(line):\n",
    "    split = line.split(' ')\n",
    "    offset = split[2].split(',')\n",
    "    dims = split[3].split('x')\n",
    "    return int(split[0][1::]), int(offset[0]), int(offset[1][:-1]), int(dims[0]), int(dims[1])\n",
    "\n",
    "all_fabric = np.zeros([1000, 1000])\n",
    "\n",
    "for claim in data:\n",
    "    fabric = np.zeros([1000,1000])\n",
    "    i, l, t, w, h = get_dims(claim)\n",
    "    fabric[t:t+h, l:l+w] = 1\n",
    "    all_fabric = all_fabric + fabric\n",
    "\n",
    "print (\"answer: %d\" % sum(sum(all_fabric > 1))) "
   ]
  },
  {
   "cell_type": "markdown",
   "metadata": {},
   "source": [
    "## Part 2"
   ]
  },
  {
   "cell_type": "code",
   "execution_count": 197,
   "metadata": {},
   "outputs": [
    {
     "name": "stdout",
     "output_type": "stream",
     "text": [
      "answer: 943\n"
     ]
    }
   ],
   "source": [
    "for claim in data:    \n",
    "    i, l, t, w, h = get_dims(claim)\n",
    "    overlaps = all_fabric[t:t+h, l:l+w] == 1\n",
    "    if np.size(overlaps) - np.count_nonzero(overlaps) == 0: \n",
    "        break\n",
    "        \n",
    "print (\"answer: %d\" % i)"
   ]
  }
 ],
 "metadata": {
  "kernelspec": {
   "display_name": "Python 3",
   "language": "python",
   "name": "python3"
  },
  "language_info": {
   "codemirror_mode": {
    "name": "ipython",
    "version": 3
   },
   "file_extension": ".py",
   "mimetype": "text/x-python",
   "name": "python",
   "nbconvert_exporter": "python",
   "pygments_lexer": "ipython3",
   "version": "3.6.4"
  }
 },
 "nbformat": 4,
 "nbformat_minor": 2
}
