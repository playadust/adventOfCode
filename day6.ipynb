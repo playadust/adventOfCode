{
 "cells": [
  {
   "cell_type": "code",
   "execution_count": 37,
   "metadata": {},
   "outputs": [],
   "source": [
    "import numpy as np\n",
    "import pandas as pd\n",
    "\n",
    "with open('inputs/day_6', 'r') as f:\n",
    "    data = f.read().split('\\n')[:-1]"
   ]
  },
  {
   "cell_type": "markdown",
   "metadata": {},
   "source": [
    "# Part 1"
   ]
  },
  {
   "cell_type": "code",
   "execution_count": 43,
   "metadata": {
    "scrolled": false
   },
   "outputs": [
    {
     "name": "stdout",
     "output_type": "stream",
     "text": [
      "Answer:  4771\n"
     ]
    }
   ],
   "source": [
    "def manhattan(p1, p2): # [x,y]\n",
    "    return abs(p1[0]-p2[0]) + abs(p1[1]-p2[1])\n",
    "\n",
    "def distances(coor): \n",
    "    dis = []\n",
    "    for p in points:\n",
    "        dis.append(manhattan(p, coor))\n",
    "    return dis\n",
    "\n",
    "def idx_closest(coor): # returns index of a closest point to a given coordinate\n",
    "    idx    = distances(coor)\n",
    "    mn = min([x for x in idx if x !=0])\n",
    "    if 0 in idx:\n",
    "        return idx.index(0)\n",
    "    elif idx.count(mn) > 1: \n",
    "        return -1 # mark for when more than one point are closest\n",
    "    else: \n",
    "        return int(idx.index(mn))\n",
    "\n",
    "points = [( int(x.split(',')[0]), int(x.split(',')[1][1:]) ) for x in data]\n",
    "\n",
    "m = np.matrix(points)\n",
    "X = m.T[0].max() + 1\n",
    "Y = m.T[1].max() + 1\n",
    "\n",
    "df = pd.DataFrame(np.nan, index=[x for x in range(X + 1)], columns=[y for y in range(Y)])\n",
    "\n",
    "for x in range(X+1):\n",
    "    for y in range(Y+1):\n",
    "        df[x][y] = idx_closest((x,y))\n",
    "\n",
    "edge = []\n",
    "edge = edge + df[0].unique().tolist()                  # left\n",
    "edge = edge + df.loc[0].unique().tolist()              # top\n",
    "edge = edge + df.loc[df.shape[0]-1].unique().tolist()  # bottom\n",
    "edge = edge + df[df.shape[1]-1].unique().tolist()      # right \n",
    "\n",
    "inf = list(set(edge))\n",
    "counts = df.stack().reset_index()[0].value_counts()\n",
    "for x in inf:\n",
    "    del counts[x]\n",
    "    \n",
    "print(\"Answer: \", max(counts))"
   ]
  },
  {
   "cell_type": "markdown",
   "metadata": {},
   "source": [
    "## Part 2"
   ]
  },
  {
   "cell_type": "code",
   "execution_count": 42,
   "metadata": {},
   "outputs": [
    {
     "name": "stdout",
     "output_type": "stream",
     "text": [
      "Answer:  39149\n"
     ]
    }
   ],
   "source": [
    "df2 = df.copy()\n",
    "for x in range(X+1):\n",
    "    for y in range(Y+1):\n",
    "        df2[x][y] = sum(distances((x,y)))\n",
    "        \n",
    "print(\"Answer: \", df2[df2 < 10000].count().sum())"
   ]
  }
 ],
 "metadata": {
  "kernelspec": {
   "display_name": "Python 3",
   "language": "python",
   "name": "python3"
  },
  "language_info": {
   "codemirror_mode": {
    "name": "ipython",
    "version": 3
   },
   "file_extension": ".py",
   "mimetype": "text/x-python",
   "name": "python",
   "nbconvert_exporter": "python",
   "pygments_lexer": "ipython3",
   "version": "3.6.4"
  }
 },
 "nbformat": 4,
 "nbformat_minor": 2
}
