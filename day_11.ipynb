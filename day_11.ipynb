{
 "cells": [
  {
   "cell_type": "markdown",
   "metadata": {},
   "source": [
    "# Part 1"
   ]
  },
  {
   "cell_type": "code",
   "execution_count": 178,
   "metadata": {},
   "outputs": [
    {
     "data": {
      "text/plain": [
       "(21, 34)"
      ]
     },
     "execution_count": 178,
     "metadata": {},
     "output_type": "execute_result"
    }
   ],
   "source": [
    "import numpy as np \n",
    "\n",
    "def power(x, y, serial):\n",
    "    rack = x+10\n",
    "    return (rack * y + serial) * rack % 1000 // 100 - 5\n",
    "\n",
    "serial = 5719 # game input  \n",
    "\n",
    "m = [[ power(x, y, serial) for x in range(1, 301)] for y in range(1, 301)]\n",
    "m2 = np.matrix(m) \n",
    "best = [[], 0]\n",
    "\n",
    "for y in range(m2.shape[0] - 2):\n",
    "    for x in range(m2.shape[1] - 2):\n",
    "        cell = m2[x:x+3, y:y+3]\n",
    "        coor = (y+1, x+1)\n",
    "        sm = cell.sum()\n",
    "        if sm > best[1]:\n",
    "            best[1] = sm\n",
    "            best[0] = coor\n",
    "            \n",
    "print(\"Answer\", best[0])"
   ]
  }
 ],
 "metadata": {
  "kernelspec": {
   "display_name": "Python 3",
   "language": "python",
   "name": "python3"
  },
  "language_info": {
   "codemirror_mode": {
    "name": "ipython",
    "version": 3
   },
   "file_extension": ".py",
   "mimetype": "text/x-python",
   "name": "python",
   "nbconvert_exporter": "python",
   "pygments_lexer": "ipython3",
   "version": "3.6.4"
  }
 },
 "nbformat": 4,
 "nbformat_minor": 2
}
