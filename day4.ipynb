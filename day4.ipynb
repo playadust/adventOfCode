{
 "cells": [
  {
   "cell_type": "code",
   "execution_count": 471,
   "metadata": {},
   "outputs": [],
   "source": [
    "import numpy as np \n",
    "import pandas as pd\n",
    "\n",
    "with open('inputs/day_4', 'r') as f:\n",
    "    data = f.read().split('\\n')[:-1]\n",
    "columns = ['timestamp', 'minute', 'action', 'guard']"
   ]
  },
  {
   "cell_type": "markdown",
   "metadata": {},
   "source": [
    "## Part 1"
   ]
  },
  {
   "cell_type": "code",
   "execution_count": 492,
   "metadata": {},
   "outputs": [
    {
     "name": "stdout",
     "output_type": "stream",
     "text": [
      "answer:  84636\n"
     ]
    }
   ],
   "source": [
    "arr = []\n",
    "for line in data:\n",
    "    split     = line.split(\" \")\n",
    "    action    = \"guard\"\n",
    "    guard     = 0\n",
    "    day       = split[0].split(\"-\")\n",
    "    time      = split[1].split(\":\")\n",
    "    minute    = int(time[1][:-1])\n",
    "    timestamp = int(day[1])*1000000 + int(day[2])*10000 + int(time[0])*100 + minute\n",
    "    \n",
    "    if(split[2]) == \"Guard\":\n",
    "       guard = split[3][1:]\n",
    "    else:\n",
    "        action = split[2]\n",
    "    arr.append([timestamp, minute, action, guard])\n",
    "    \n",
    "df      = pd.DataFrame(arr, columns = columns).set_index('timestamp').sort_index()\n",
    "nights  = sum(df.action == \"guard\")\n",
    "journal = np.zeros([nights, 61])\n",
    "it      = iter(zip(df['minute'], df['action'], df['guard']))\n",
    "guard, night   =  0,  -1\n",
    "\n",
    "while True:\n",
    "    try: \n",
    "        record = next(it)\n",
    "        if record[1] == \"guard\":\n",
    "            guard  = record[2]\n",
    "            night += 1\n",
    "            journal[night, 60] = guard\n",
    "        else:    \n",
    "            falls = record[0]\n",
    "            wakes = next(it)[0]\n",
    "            journal[night, falls:wakes] = 1   \n",
    "    except: break\n",
    "\n",
    "result     = pd.DataFrame(journal.astype(int)).set_index(60)\n",
    "all_guards = result.index.unique()\n",
    "stats      = []\n",
    "\n",
    "for guard in all_guards:\n",
    "    guard_data = result.loc[guard]\n",
    "    top_min    = guard_data.apply(np.sum, axis=0).idxmax()\n",
    "    top_mins   = max(guard_data.apply(np.sum, axis=0))\n",
    "    total_mins = sum(sum(guard_data.values))\n",
    "    stats.append([guard, top_min, top_mins, total_mins])\n",
    "\n",
    "stats_df = pd.DataFrame(stats, columns = ['guard', 'top_min', 'top_mins', 'total_mins'])\n",
    "\n",
    "idxmax = stats_df['total_mins'].idxmax()\n",
    "print(\"answer: \", stats_df.loc[idxmax].top_min * stats_df.loc[idxmax].guard)"
   ]
  },
  {
   "cell_type": "markdown",
   "metadata": {},
   "source": [
    "## Part 2"
   ]
  },
  {
   "cell_type": "code",
   "execution_count": 493,
   "metadata": {},
   "outputs": [
    {
     "name": "stdout",
     "output_type": "stream",
     "text": [
      "answer:  91679\n"
     ]
    }
   ],
   "source": [
    "idxmax = stats_df['top_mins'].idxmax()\n",
    "print(\"answer: \", stats_df.loc[idxmax].top_min * stats_df.loc[idxmax].guard)"
   ]
  }
 ],
 "metadata": {
  "kernelspec": {
   "display_name": "Python 3",
   "language": "python",
   "name": "python3"
  },
  "language_info": {
   "codemirror_mode": {
    "name": "ipython",
    "version": 3
   },
   "file_extension": ".py",
   "mimetype": "text/x-python",
   "name": "python",
   "nbconvert_exporter": "python",
   "pygments_lexer": "ipython3",
   "version": "3.6.4"
  }
 },
 "nbformat": 4,
 "nbformat_minor": 2
}
