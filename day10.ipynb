{
 "cells": [
  {
   "cell_type": "markdown",
   "metadata": {},
   "source": [
    "# Part 1"
   ]
  },
  {
   "cell_type": "code",
   "execution_count": 134,
   "metadata": {},
   "outputs": [
    {
     "name": "stdout",
     "output_type": "stream",
     "text": [
      "max:  24\n"
     ]
    }
   ],
   "source": [
    "from collections import Counter\n",
    "import pandas as pd\n",
    "import numpy as np \n",
    "\n",
    "# load data\n",
    "data = open('inputs/day_10', 'r').read().split('\\n')[:-1]\n",
    "points = [ {'pos':[int(x[10:16]), int(x[17:24])], 'vel': [int(x[36:38]), int(x[39:42])] } for x in data]\n",
    "\n",
    "# animate the stars, until most arrange into columns \n",
    "while True: \n",
    "    for i, p in enumerate(points):\n",
    "        x = points[i]['pos'][0] + points[i]['vel'][0]\n",
    "        y = points[i]['pos'][1] + points[i]['vel'][1]\n",
    "        points[i]['pos'] = [x,y] \n",
    "\n",
    "    xs = Counter([po['pos'][0] for po in points])\n",
    "    max_vals = max(xs.values())\n",
    "    \n",
    "    if max_vals > 17 :\n",
    "        break\n",
    "    \n",
    "print(\"max: \", max(xs.values()))"
   ]
  },
  {
   "cell_type": "code",
   "execution_count": 135,
   "metadata": {},
   "outputs": [
    {
     "data": {
      "image/png": "[encoded data removed]",
      "text/plain": [
       "<PIL.Image.Image image mode=RGB size=62x10 at 0x7F709F3F0C18>"
      ]
     },
     "execution_count": 135,
     "metadata": {},
     "output_type": "execute_result"
    }
   ],
   "source": [
    "# now let's take a look at the sky :) \n",
    "max_x = max(list(map(lambda x: x['pos'][0], points)))\n",
    "min_x = min(list(map(lambda x: x['pos'][0], points)))\n",
    "max_y = max(list(map(lambda x: x['pos'][1], points)))\n",
    "min_y = min(list(map(lambda x: x['pos'][1], points)))\n",
    "\n",
    "from PIL import Image\n",
    "image = Image.new('RGB', (max_x - min_x + 1, max_y - min_y + 1))\n",
    "\n",
    "for point in points:\n",
    "    x = point['pos'][0] - min_x \n",
    "    y = point['pos'][1] - min_y \n",
    "    image.putpixel([x, y], (255, 0, 0))\n",
    "\n",
    "image"
   ]
  }
 ],
 "metadata": {
  "kernelspec": {
   "display_name": "Python 3",
   "language": "python",
   "name": "python3"
  },
  "language_info": {
   "codemirror_mode": {
    "name": "ipython",
    "version": 3
   },
   "file_extension": ".py",
   "mimetype": "text/x-python",
   "name": "python",
   "nbconvert_exporter": "python",
   "pygments_lexer": "ipython3",
   "version": "3.6.3"
  }
 },
 "nbformat": 4,
 "nbformat_minor": 2
}
