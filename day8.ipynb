{
 "cells": [
  {
   "cell_type": "markdown",
   "metadata": {},
   "source": [
    "# Part 1"
   ]
  },
  {
   "cell_type": "code",
   "execution_count": 258,
   "metadata": {
    "scrolled": false
   },
   "outputs": [
    {
     "name": "stdout",
     "output_type": "stream",
     "text": [
      "Answer:  37905\n"
     ]
    }
   ],
   "source": [
    "#raw = \"2 3 1 1 0 1 99 2 0 3 10 11 12 1 1 2\"\n",
    "raw = open('inputs/day_8', 'r').read().split()\n",
    "data = [int(x) for x in raw]\n",
    "\n",
    "class Node:\n",
    "    def __init__(self, meta, parent):\n",
    "        self.meta = meta\n",
    "        self.children = []\n",
    "        self.parent = parent\n",
    "\n",
    "def proccess(tree):\n",
    "    n = tree[0]\n",
    "    meta = tree[-tree[1]:]\n",
    "    trunk = tree[2:-tree[1]]\n",
    "    return n, meta, trunk         \n",
    "        \n",
    "n, meta, trunk = proccess(data) \n",
    "root = Node(meta, None)      \n",
    "tree = root\n",
    "\n",
    "i = 0\n",
    "metadata = []\n",
    "\n",
    "while i < len(data):\n",
    "    if data[i] == 0:\n",
    "        leaf = data[i:i+2+data[i+1]]\n",
    "        meta = leaf[2:]\n",
    "        tree.meta = meta\n",
    "        tree = tree.parent\n",
    "        metadata += meta\n",
    "        del data[i:i+2+data[i+1]]\n",
    "        i -= 2\n",
    "        if i < 0: \n",
    "            break\n",
    "        data[i] -= 1\n",
    "    else: \n",
    "        i += 2\n",
    "        new_tree = Node(None, tree)\n",
    "        tree.children.append(new_tree)\n",
    "        tree = new_tree\n",
    "        \n",
    "print(\"Answer: \", sum(metadata))    "
   ]
  },
  {
   "cell_type": "markdown",
   "metadata": {},
   "source": [
    "# Part 2"
   ]
  },
  {
   "cell_type": "code",
   "execution_count": 259,
   "metadata": {
    "scrolled": false
   },
   "outputs": [
    {
     "name": "stdout",
     "output_type": "stream",
     "text": [
      "Answer: 33891\n"
     ]
    }
   ],
   "source": [
    "raw = open('inputs/day_8', 'r').read().split()\n",
    "data = [int(x) for x in raw]\n",
    "tree = root\n",
    "meta = []\n",
    "\n",
    "def walk(tree):\n",
    "    global meta\n",
    "    if len(tree.children) == 0:\n",
    "        meta += tree.meta\n",
    "    else:\n",
    "        for m in tree.meta:\n",
    "            if m-1 < len(tree.children):\n",
    "                walk(tree.children[m-1])\n",
    "            \n",
    "walk(root)\n",
    "print(\"Answer:\", sum(meta))"
   ]
  }
 ],
 "metadata": {
  "kernelspec": {
   "display_name": "Python 3",
   "language": "python",
   "name": "python3"
  },
  "language_info": {
   "codemirror_mode": {
    "name": "ipython",
    "version": 3
   },
   "file_extension": ".py",
   "mimetype": "text/x-python",
   "name": "python",
   "nbconvert_exporter": "python",
   "pygments_lexer": "ipython3",
   "version": "3.6.4"
  }
 },
 "nbformat": 4,
 "nbformat_minor": 2
}
