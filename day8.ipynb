{
 "cells": [
  {
   "cell_type": "markdown",
   "metadata": {},
   "source": [
    "# Part 1"
   ]
  },
  {
   "cell_type": "code",
   "execution_count": 115,
   "metadata": {},
   "outputs": [
    {
     "name": "stdout",
     "output_type": "stream",
     "text": [
      "Answer:  37905\n"
     ]
    }
   ],
   "source": [
    "#raw = \"2 3 1 1 0 1 99 2 0 3 10 11 12 1 1 2\"\n",
    "raw = open('inputs/day_8', 'r').read().split()\n",
    "\n",
    "data = [int(x) for x in raw]\n",
    "i = 0\n",
    "metadata = []\n",
    "\n",
    "while i < len(data):\n",
    "    if data[i] == 0:\n",
    "        leaf = data[i:i+2+data[i+1]]\n",
    "        meta = leaf[2:]\n",
    "        metadata += meta\n",
    "        del data[i:i+2+data[i+1]]\n",
    "        i -= 2\n",
    "        if i < 0: \n",
    "            break\n",
    "        data[i] -= 1\n",
    "    else: \n",
    "        i += 2\n",
    "        \n",
    "print(\"Answer: \", sum(metadata))   "
   ]
  },
  {
   "cell_type": "markdown",
   "metadata": {},
   "source": [
    "# Part 2"
   ]
  },
  {
   "cell_type": "code",
   "execution_count": 118,
   "metadata": {},
   "outputs": [],
   "source": [
    "l = [1, 2, [5 ,6]]"
   ]
  },
  {
   "cell_type": "code",
   "execution_count": 121,
   "metadata": {},
   "outputs": [
    {
     "data": {
      "text/plain": [
       "2"
      ]
     },
     "execution_count": 121,
     "metadata": {},
     "output_type": "execute_result"
    }
   ],
   "source": [
    "len(l[2])"
   ]
  },
  {
   "cell_type": "code",
   "execution_count": null,
   "metadata": {},
   "outputs": [],
   "source": []
  }
 ],
 "metadata": {
  "kernelspec": {
   "display_name": "Python 3",
   "language": "python",
   "name": "python3"
  },
  "language_info": {
   "codemirror_mode": {
    "name": "ipython",
    "version": 3
   },
   "file_extension": ".py",
   "mimetype": "text/x-python",
   "name": "python",
   "nbconvert_exporter": "python",
   "pygments_lexer": "ipython3",
   "version": "3.6.4"
  }
 },
 "nbformat": 4,
 "nbformat_minor": 2
}
