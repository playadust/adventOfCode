{
 "cells": [
  {
   "cell_type": "code",
   "execution_count": 12,
   "metadata": {},
   "outputs": [
    {
     "name": "stdout",
     "output_type": "stream",
     "text": [
      "Answer: CGKMUWXFAIHSYDNLJQTREOPZBV\n"
     ]
    }
   ],
   "source": [
    "from collections import defaultdict\n",
    "import heapq as h\n",
    "\n",
    "def pluck(node):\n",
    "    if node in tree:\n",
    "        del tree[node]\n",
    "    for k in list(tree):\n",
    "        if node in tree[k]:\n",
    "            tree[k].remove(node)\n",
    "            if len(tree[k]) == 0:\n",
    "                h.heappush(ends, k)   \n",
    "\n",
    "data = open('inputs/day_7').read().split('\\n')[:-1]\n",
    "\n",
    "tree = defaultdict(list)     \n",
    "nodes = set()\n",
    "order = []\n",
    "\n",
    "\n",
    "for d in data:\n",
    "    nodes.update(d[-12], d[5])    \n",
    "    tree[d[-12]].append(d[5])\n",
    "\n",
    "ends = list(nodes.difference(tree.keys()))\n",
    "h.heapify(ends)\n",
    "\n",
    "while len(ends) > 0:\n",
    "    nxt = h.heappop(ends)\n",
    "    order.append(nxt)\n",
    "    pluck(nxt)\n",
    "    \n",
    "print(\"Answer:\", \"\".join(order))    "
   ]
  }
 ],
 "metadata": {
  "kernelspec": {
   "display_name": "Python 3",
   "language": "python",
   "name": "python3"
  },
  "language_info": {
   "codemirror_mode": {
    "name": "ipython",
    "version": 3
   },
   "file_extension": ".py",
   "mimetype": "text/x-python",
   "name": "python",
   "nbconvert_exporter": "python",
   "pygments_lexer": "ipython3",
   "version": "3.6.4"
  }
 },
 "nbformat": 4,
 "nbformat_minor": 2
}
