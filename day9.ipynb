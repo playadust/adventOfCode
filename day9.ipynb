{
 "cells": [
  {
   "cell_type": "markdown",
   "metadata": {},
   "source": [
    "# Part 1 & 2   (Efficient solution)\n",
    "\n",
    "#### OK. Now let's get serious about efficiency... rewriting the solution, thi time around using circular linked list (deque)\n"
   ]
  },
  {
   "cell_type": "code",
   "execution_count": 149,
   "metadata": {},
   "outputs": [
    {
     "name": "stdout",
     "output_type": "stream",
     "text": [
      "Answer 1:  398730\n",
      "Answer 2:  3349635509\n"
     ]
    }
   ],
   "source": [
    "from collections import deque, Counter\n",
    "\n",
    "# game settings\n",
    "players  = 438\n",
    "part_1_goal = 71626\n",
    "part_2_goal = 7162600\n",
    "\n",
    "scores = Counter()\n",
    "deck = deque([0])    \n",
    "\n",
    "for i in range(0, part_2_goal):\n",
    "    plr = i%players + 1\n",
    "    marble = i + 1\n",
    "    if marble % 23 == 0:\n",
    "        deck.rotate(7)\n",
    "        scores[plr] += marble + deck.pop() \n",
    "        deck.rotate(-1)\n",
    "    else:    \n",
    "        deck.rotate(-1)\n",
    "        deck.append(marble)\n",
    "    if marble == part_1_goal:\n",
    "        print(\"Answer 1: \", max(scores.values()))\n",
    "\n",
    "print(\"Answer 2: \", max(scores.values()))"
   ]
  }
 ],
 "metadata": {
  "kernelspec": {
   "display_name": "Python 3",
   "language": "python",
   "name": "python3"
  },
  "language_info": {
   "codemirror_mode": {
    "name": "ipython",
    "version": 3
   },
   "file_extension": ".py",
   "mimetype": "text/x-python",
   "name": "python",
   "nbconvert_exporter": "python",
   "pygments_lexer": "ipython3",
   "version": "3.6.4"
  }
 },
 "nbformat": 4,
 "nbformat_minor": 2
}
