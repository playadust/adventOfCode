{
 "cells": [
  {
   "cell_type": "markdown",
   "metadata": {},
   "source": [
    "# Part 1"
   ]
  },
  {
   "cell_type": "code",
   "execution_count": 240,
   "metadata": {},
   "outputs": [],
   "source": [
    "def placeMarble(circle, index, marble):\n",
    "    ln = len(circle)\n",
    "    score = 0\n",
    "    \n",
    "    if marble % 23 != 0:\n",
    "        new_index = (index + 2) % ln\n",
    "        if new_index == 0: new_index = ln\n",
    "        circle.insert(new_index, marble)\n",
    "    else:\n",
    "        new_index = (index - 7) % ln\n",
    "        score = marble + circle.pop(new_index)\n",
    "    \n",
    "    return circle, new_index, marble+1, score\n"
   ]
  },
  {
   "cell_type": "code",
   "execution_count": 241,
   "metadata": {},
   "outputs": [
    {
     "name": "stdout",
     "output_type": "stream",
     "text": [
      "Answer:  398730\n"
     ]
    }
   ],
   "source": [
    "# game settings\n",
    "goal = 71626\n",
    "players = 438\n",
    "\n",
    "# inits\n",
    "circle = [0]\n",
    "index = 0\n",
    "marble = 1\n",
    "scores = {i:0 for i in range(players+1)}\n",
    "\n",
    "# game!\n",
    "while marble <= goal:\n",
    "    circle, index, marble, score = placeMarble(circle, index, marble)\n",
    "    player = marble % players\n",
    "    scores[player] += score\n",
    "    \n",
    "print(\"Answer: \", max(scores.values()))"
   ]
  }
 ],
 "metadata": {
  "kernelspec": {
   "display_name": "Python 3",
   "language": "python",
   "name": "python3"
  },
  "language_info": {
   "codemirror_mode": {
    "name": "ipython",
    "version": 3
   },
   "file_extension": ".py",
   "mimetype": "text/x-python",
   "name": "python",
   "nbconvert_exporter": "python",
   "pygments_lexer": "ipython3",
   "version": "3.6.4"
  }
 },
 "nbformat": 4,
 "nbformat_minor": 2
}
